{
 "cells": [
  {
   "cell_type": "markdown",
   "id": "860ec1de-81ca-47e1-8a22-472a026d9fa7",
   "metadata": {},
   "source": [
    "# **Looking for plagiarism in 2,370 documents**\n",
    "\n",
    "### ***By Rodrigo Guarneros Gutiérrez***"
   ]
  },
  {
   "cell_type": "markdown",
   "id": "b9c16594-8a98-4909-bc7b-3aa81eeeedeb",
   "metadata": {},
   "source": [
    "<span style=\"color:DarkGreen; font-size: 30px;\">Introducción</span>\n",
    "\n",
    "Detectar,  a nivel básico por medio de una medida de similitud, el plagio que hay dentro de un conjunto de documentos.\n",
    "\n",
    "Para tal efecto, este documento tiene las siguientes secciones:\n",
    "\n",
    "1. Resumen ejecutivo\n",
    "2. Obtención de información\n",
    "3. Normalización de cada documento por lista (folder)\n",
    "    * Mayúsculas\n",
    "    * Símbolos\n",
    "    * Tokenización\n",
    "    * Stop Words\n",
    "    * Stemming (derivación)\n",
    "4. Jaccard para todos los archivos\n",
    "5. Eligiendo una muestra aleatoria de 20 textos sospechosos y comparando con todas las fuentes\n",
    "6. Cálculo de la similaridad de Dice para la muestra aleatoria\n",
    "7. Archivos a los que corresponde la similaridad de Dice y Jaccard en la muestra\n",
    "8. Los resultados en una sola tabla\n",
    "9. Comparación Gráfica\n",
    "10. Conclusiones"
   ]
  },
  {
   "cell_type": "markdown",
   "id": "a4eca09b-17e6-4f3e-bfda-f0ab7dda15f5",
   "metadata": {},
   "source": [
    "<span style=\"color:DarkGreen; font-size: 30px;\">Desarrollo</span>"
   ]
  },
  {
   "cell_type": "code",
   "execution_count": 1,
   "id": "06a6dc4c-cf5d-45fb-88da-870fae2e037a",
   "metadata": {},
   "outputs": [
    {
     "name": "stderr",
     "output_type": "stream",
     "text": [
      "[nltk_data] Downloading package stopwords to\n",
      "[nltk_data]     C:\\Users\\rodri\\AppData\\Roaming\\nltk_data...\n",
      "[nltk_data]   Package stopwords is already up-to-date!\n"
     ]
    }
   ],
   "source": [
    "# Dependencias: \n",
    "import io\n",
    "import os\n",
    "import pandas as pd\n",
    "from collections import Counter\n",
    "import pandas as pd\n",
    "import matplotlib.pyplot as plt\n",
    "import seaborn as sn\n",
    "import unicodedata\n",
    "import math\n",
    "import seaborn as sns\n",
    "import numpy as np\n",
    "import nltk\n",
    "import string\n",
    "import pickle\n",
    "from scipy.stats import rankdata\n",
    "nltk.download('stopwords')\n",
    "from nltk.corpus import stopwords\n",
    "import random"
   ]
  },
  {
   "cell_type": "markdown",
   "id": "1523983a-3b27-4f8c-97e6-e1237e996687",
   "metadata": {},
   "source": [
    "# 1. Resumen ejecutivo"
   ]
  },
  {
   "cell_type": "markdown",
   "id": "f4312a31-0970-4638-a98c-fe35f5f9b3ac",
   "metadata": {},
   "source": [
    "Después de idear la mejor forma de cargar todos los documentos disponibles en las carpetas de sospechosos y fuentes a manera de listas sobre las que se puedan realizar operaciones de iteración, se procedió al preprocesamiento de los datos, incluyendo los siguientes pasos:\n",
    "\n",
    "    * Mayúsculas\n",
    "    * Símbolos\n",
    "    * Tokenización\n",
    "    * Stop Words\n",
    "    * Stemming (derivación)\n",
    "\n",
    "Con cada archivo pre-procesado, se elaboraron las funciones correspondientes a la implementación de la similaridad de Jaccard sin peso, conforme a la literatura revisada: \n",
    "\n",
    "$$Jaccard(doc_1, doc_2) = \\frac{|doc_1 \\cap doc_2|}{|doc_1 \\cup doc_2|}$$\n",
    "\n",
    "Para este caso en particular se aplicó para todo el conjunto de documentos sospechosos (***2,370 textos***) y todo el conjunto de los documentos fuente (***237 textos***). Como resultado de lo anterior, se obtuvo que en el top 20 de los documentos con mayor score de plagio, el rango de este cosciente es de 0.24 a 0.21, tomando en cuenta todos los documentos disponibles.\n",
    "\n",
    "En cuanto a la muestra aleatoria de 20 textos en el folder de sospechosos, se implementó una función también para el cálculo de la similaridad de Dice, en los siguientes términos:\n",
    "\n",
    "$$Dice(doc_1, doc_2) = \\frac{2 |doc_1 \\cap doc_2|}{|doc_1| + |doc_2|}$$\n",
    "\n",
    "El resultado de aplicar ambas funciones a la misma muestra aleatoria, confirma los siguientes resultados. Donde se puede ver que el mayor valor de la Similaridad de Dice es el doble de la Similaridad de Jaccard, no obstante con la misma estructura de similaridad entre los mismos textos, sin confirmar una similaridad absoluta con valor de 1:\n",
    "\n",
    "\n",
    "|    | Textos_Seleccionados_Aleatoriamente   |   Similaridad_de_Dice |   Similaridad de Jaccard |\n",
    "|---:|:--------------------------------------|----------------------:|-------------------------:|\n",
    "| 15 | suspicious-document1382.txt           |                  0.21 |                     0.11 |\n",
    "|  7 | suspicious-document1553.txt           |                  0.2  |                     0.11 |\n",
    "|  0 | suspicious-document0215.txt           |                  0.19 |                     0.11 |\n",
    "| 18 | suspicious-document1005.txt           |                  0.19 |                     0.11 |\n",
    "| 13 | suspicious-document0654.txt           |                  0.16 |                     0.09 |\n",
    "|  8 | suspicious-document2197.txt           |                  0.16 |                     0.08 |\n",
    "| 19 | suspicious-document0671.txt           |                  0.16 |                     0.09 |\n",
    "|  3 | suspicious-document1669.txt           |                  0.16 |                     0.08 |\n",
    "|  5 | suspicious-document0442.txt           |                  0.15 |                     0.08 |\n",
    "| 12 | suspicious-document0213.txt           |                  0.15 |                     0.08 |\n",
    "| 10 | suspicious-document1361.txt           |                  0.15 |                     0.08 |\n",
    "| 14 | suspicious-document0554.txt           |                  0.14 |                     0.07 |\n",
    "| 17 | suspicious-document1368.txt           |                  0.13 |                     0.07 |\n",
    "|  2 | suspicious-document0358.txt           |                  0.13 |                     0.07 |\n",
    "| 11 | suspicious-document1396.txt           |                  0.11 |                     0.06 |\n",
    "|  4 | suspicious-document1092.txt           |                  0.11 |                     0.06 |\n",
    "|  6 | suspicious-document0157.txt           |                  0.1  |                     0.05 |\n",
    "|  1 | suspicious-document1097.txt           |                  0.07 |                     0.04 |\n",
    "|  9 | suspicious-document2304.txt           |                  0.06 |                     0.03 |\n",
    "| 16 | suspicious-document2298.txt           |                  0.06 |                     0.03 |\n",
    "\n",
    "La comparación gráfica nos permite confirmar lo anterior y tomar en cuenta que:\n",
    "\n",
    "1. Como se establece en Manning & Shütze (1999), página 299, la métrica de Jaccard penaliza casi al doble del criterio de Dice a aquellos documentos que comparten una proporción muy pequeña de sus elementos (como una propoción de todos los elementos no-cero). Ambos miden en el rango de 0 (no hay traslape entre los elementos) y 1 (existe traslape perfecto entre todos los elementos). Pero el coeficiente de Jaccard proporciona bajos valores para los casos donde el traslape es bajo. El ejemplo del autor es muy claro: dos listas con 10 elementos \"no cero\" y sólo una entrada en común proporciona los siguientes valores: Dice = 2x1/(10+10)=0.1 y Jaccard = 1/(10+10-1)=0.5.\n",
    "\n",
    "2. En el caso de nuestros scores, se puede ver que el máximo valor es dado al documento denominado \"suspicious-document1382.txt\" con un un score de Dice de 0.21 y una similaridad de Jaccard de 0.11 (21% de ese texto es considerado como común a las fuentes originales). Como se puede ver en la gráfica, los niveles de Dice son regularmente el doble de los reportados con la metodología de Jaccard, sin perder de vista una estructura similar pero con más penalización de similaridad en Jaccard.\n",
    "\n",
    "<p align=\"center\">\n",
    "  <img src=\"Comparativo.png\">\n",
    "</p>"
   ]
  },
  {
   "cell_type": "markdown",
   "id": "abf63af6-5e84-4ab8-a819-f781164089a0",
   "metadata": {},
   "source": [
    "# 2. Obteniendo la información"
   ]
  },
  {
   "cell_type": "code",
   "execution_count": 2,
   "id": "ebb622d9-4761-4989-af91-045ced85edcf",
   "metadata": {},
   "outputs": [
    {
     "name": "stdout",
     "output_type": "stream",
     "text": [
      "Leyendo todos los textos...\n",
      "Se trata de 2370 textos sospechosos de plagio\n",
      "Un ejemplo del primer elemento de la lista de sospechosos:\n",
      " WASHINGTON  ( AP )--  Robert Rubin  spent much of his life speculating what the stock market would do. He was good at it and made  $ 100 million . When he came to  Washington ,  Rubin  did essentially the same thing, speculating that if President  Clinton  would balance the budget, he would be rewarded with a booming economy. To the surprise of many, that argument caught  Clinton 's ear. And in the six years since, first as a top economic adviser and since  1995  as the  Treasury  secretary,  Rubin  has gained much credit-- in a close partnership with  Federal Reserve  Chairman  Alan Greenspa\n"
     ]
    }
   ],
   "source": [
    "# Textos sospechosos de plagio\n",
    "\n",
    "folder_path_sospechosos = \"./suspicious-documents/\"\n",
    "sospechosos = []\n",
    "\n",
    "# Iteramos sobre los elementos que están contenidos en el folder de sospechosos\n",
    "for archivo in os.listdir(folder_path_sospechosos):\n",
    "    if archivo.endswith(\".txt\"):\n",
    "        # Se construye el path completo de cada archivo con extensión txt\n",
    "        file_path = os.path.join(folder_path_sospechosos, archivo)\n",
    "        with open(file_path, \"r\", encoding=\"UTF-8\") as f:\n",
    "            contenidos = f.read()\n",
    "            sospechosos.append(contenidos)\n",
    "\n",
    "print('Leyendo todos los textos...')\n",
    "print(f'Se trata de {len(sospechosos)} textos sospechosos de plagio')            \n",
    "print('Un ejemplo del primer elemento de la lista de sospechosos:')\n",
    "print(sospechosos[0][:600])  # imprime como ejemplo una fracción del texto inicial.\n",
    "\n"
   ]
  },
  {
   "cell_type": "code",
   "execution_count": 3,
   "id": "460c8455-cb61-416a-84df-d0af8c0be74a",
   "metadata": {},
   "outputs": [
    {
     "name": "stdout",
     "output_type": "stream",
     "text": [
      "Leyendo todos los textos...\n",
      "Se trata de 237 textos fuente\n",
      "Un ejemplo del primer elemento de la lista de textos fuente:\n",
      "While the commission stopped short of blaming Chief Gates for these problems, it said that no chief should serve more than two consecutive five-year terms, and that Mr. Gates, having served 13 years, should therefore turn in his badge following a transition period. But the chief, who has remained steadfast through repeated calls from community leaders for his ouster, said later: \"I don't expect to just run away\" from the job. Nearly one-quarter of 650 officers responding to a commission survey agreed that \"racial bias on the part of officers toward minority citizens currently exists and contri\n"
     ]
    }
   ],
   "source": [
    "# Textos originales o fuente\n",
    "\n",
    "folder_path_fuentes = \"./source-documents/\"\n",
    "fuentes = []\n",
    "\n",
    "# Iteramos sobre los elementos que están contenidos en el folder de fuentes\n",
    "for archivo in os.listdir(folder_path_fuentes):\n",
    "    if archivo.endswith(\".txt\"):\n",
    "        # Se construye el path completo de cada archivo con extensión txt\n",
    "        file_path = os.path.join(folder_path_fuentes, archivo)\n",
    "        with open(file_path, \"r\", encoding=\"UTF-8\") as f:\n",
    "            contenidos = f.read()\n",
    "            fuentes.append(contenidos)\n",
    "\n",
    "print('Leyendo todos los textos...')\n",
    "print(f'Se trata de {len(fuentes)} textos fuente')            \n",
    "print('Un ejemplo del primer elemento de la lista de textos fuente:')\n",
    "print(fuentes[0][:600])  # imprime como ejemplo una fracción del texto inicial.\n"
   ]
  },
  {
   "cell_type": "markdown",
   "id": "ecf0e57b-1316-4a14-a7e6-e9f33a620d30",
   "metadata": {},
   "source": [
    "# 3. Normalización"
   ]
  },
  {
   "cell_type": "markdown",
   "id": "d40f7b25-ef7b-40fe-8ab2-34f657c7a51c",
   "metadata": {},
   "source": [
    "# 3.1 Mayúsculas en cada lista"
   ]
  },
  {
   "cell_type": "code",
   "execution_count": 4,
   "id": "b1440580-0cbf-4f28-8cec-4a22558786f3",
   "metadata": {},
   "outputs": [
    {
     "data": {
      "text/plain": [
       "'while the commission stopped short of blaming chief gates for these problems, it said that no chief should serve more than two consecutive five-year terms, and that mr. gates, having served 13 years, should therefore turn in his badge following a transition period. but the chief, who has remained steadfast through repeated calls from community leaders for his ouster, said later: \"i don\\'t expect to just run away\" from the job. nearly one-quarter of 650 officers responding to a commission survey agreed that \"racial bias on the part of officers toward minority citizens currently exists and contri'"
      ]
     },
     "execution_count": 4,
     "metadata": {},
     "output_type": "execute_result"
    }
   ],
   "source": [
    "# cada elemento en minúscula\n",
    "fuentes_minusculas = [fuentes[i].lower() for i in range(len(fuentes))]\n",
    "fuentes_minusculas[0][:600]"
   ]
  },
  {
   "cell_type": "code",
   "execution_count": 5,
   "id": "6e694bff-c213-4cc5-b7e5-ff848a6f92f3",
   "metadata": {},
   "outputs": [
    {
     "data": {
      "text/plain": [
       "\" washington  ( ap )--  robert rubin  spent much of his life speculating what the stock market would do. he was good at it and made  $ 100 million . when he came to  washington ,  rubin  did essentially the same thing, speculating that if president  clinton  would balance the budget, he would be rewarded with a booming economy. to the surprise of many, that argument caught  clinton 's ear. and in the six years since, first as a top economic adviser and since  1995  as the  treasury  secretary,  rubin  has gained much credit-- in a close partnership with  federal reserve  chairman  alan greenspa\""
      ]
     },
     "execution_count": 5,
     "metadata": {},
     "output_type": "execute_result"
    }
   ],
   "source": [
    "# cada elemento en minúscula\n",
    "sospechosos_minusculas = [sospechosos[i].lower() for i in range(len(sospechosos))]\n",
    "sospechosos_minusculas[0][:600]"
   ]
  },
  {
   "cell_type": "markdown",
   "id": "f46b0f68-13b1-42eb-be1f-0478df6f4c9a",
   "metadata": {},
   "source": [
    "# 3.2. Búsqueda de símbolos y eliminación"
   ]
  },
  {
   "cell_type": "code",
   "execution_count": 6,
   "id": "eb4779fc-4971-42c7-9b07-5c7a2b177430",
   "metadata": {},
   "outputs": [
    {
     "data": {
      "text/plain": [
       "' washington    ap      robert rubin  spent much of his life speculating what the stock market would do  he was good at it and made    100 million   when he came to  washington    rubin  did essentially the same thing  speculating that if president  clinton  would balance the budget  he would be rewarded with a booming economy  to the surprise of many  that argument caught  clinton  s ear  and in the six years since  first as a top economic adviser and since  1995  as the  treasury  secretary   rubin  has gained much credit   in a close partnership with  federal reserve  chairman  alan greenspa'"
      ]
     },
     "execution_count": 6,
     "metadata": {},
     "output_type": "execute_result"
    }
   ],
   "source": [
    "# SOSPECHOSOS\n",
    "sospechosos_minusc_simbol = [sospechosos_minusculas[i].translate({ord(i): ' ' for i in \"\"''\",' ', '\\n', '`', ''', '/', '%', 'ø', '\\xad', '+', 'μ', 'æ', 'ß', '_', '·', 'ð', '&', '=', '``', '`', '$', '\\\\', '.', '(', ')', '--', ':', '``', \"''\", \"' '\", '``'\"}) for i in range (len(sospechosos_minusculas))]\n",
    "sospechosos_minusc_simbol[0][0:600]"
   ]
  },
  {
   "cell_type": "code",
   "execution_count": 7,
   "id": "5b21bdee-c9ee-49ba-aed0-0761f00965f2",
   "metadata": {},
   "outputs": [
    {
     "data": {
      "text/plain": [
       "'while the commission stopped short of blaming chief gates for these problems  it said that no chief should serve more than two consecutive five year terms  and that mr  gates  having served 13 years  should therefore turn in his badge following a transition period  but the chief  who has remained steadfast through repeated calls from community leaders for his ouster  said later  \"i don t expect to just run away\" from the job  nearly one quarter of 650 officers responding to a commission survey agreed that \"racial bias on the part of officers toward minority citizens currently exists and contri'"
      ]
     },
     "execution_count": 7,
     "metadata": {},
     "output_type": "execute_result"
    }
   ],
   "source": [
    "# FUENTES\n",
    "fuentes_minusc_simbol = [fuentes_minusculas[i].translate({ord(i): ' ' for i in \"\"''\",' ', '\\n', '`', ''', '/', '%', 'ø', '\\xad', '+', 'μ', 'æ', 'ß', '_', '·', 'ð', '&', '=', '``', '`', '$', '\\\\', '.', '(', ')', '--', ':', '``', \"''\", \"' '\", '``'\"}) for i in range (len(fuentes_minusculas))]\n",
    "fuentes_minusc_simbol[0][0:600]"
   ]
  },
  {
   "cell_type": "markdown",
   "id": "a3249761-5454-4878-947d-c66d7ed2688e",
   "metadata": {},
   "source": [
    "# 3.3 Tokenizamos cada texto de cada folder: sospechosos y fuentes"
   ]
  },
  {
   "cell_type": "code",
   "execution_count": 8,
   "id": "da26b766-c7dd-498c-b3df-953d0ba75cc8",
   "metadata": {},
   "outputs": [
    {
     "name": "stdout",
     "output_type": "stream",
     "text": [
      "['washington', 'ap', 'robert', 'rubin', 'spent', 'much', 'of', 'his', 'life', 'speculating', 'what', 'the', 'stock', 'market', 'would', 'do', 'he', 'was', 'good', 'at', 'it', 'and', 'made', '100', 'million', 'when', 'he', 'came', 'to', 'washington', 'rubin', 'did', 'essentially', 'the', 'same', 'thing', 'speculating', 'that', 'if', 'president', 'clinton', 'would', 'balance', 'the', 'budget', 'he', 'would', 'be', 'rewarded', 'with', 'a', 'booming', 'economy', 'to', 'the', 'surprise', 'of', 'many', 'that', 'argument']\n"
     ]
    }
   ],
   "source": [
    "# sospechosos\n",
    "sospechosos_tokens = []\n",
    "for lista in sospechosos_minusc_simbol:\n",
    "    tokenized_lista = nltk.word_tokenize(lista)\n",
    "    sospechosos_tokens.append(tokenized_lista)\n",
    "\n",
    "print(sospechosos_tokens[0][:60])\n"
   ]
  },
  {
   "cell_type": "code",
   "execution_count": 9,
   "id": "6c5995d0-fdcb-4f41-8826-08e9dea124cd",
   "metadata": {},
   "outputs": [
    {
     "name": "stdout",
     "output_type": "stream",
     "text": [
      "['while', 'the', 'commission', 'stopped', 'short', 'of', 'blaming', 'chief', 'gates', 'for', 'these', 'problems', 'it', 'said', 'that', 'no', 'chief', 'should', 'serve', 'more', 'than', 'two', 'consecutive', 'five', 'year', 'terms', 'and', 'that', 'mr', 'gates', 'having', 'served', '13', 'years', 'should', 'therefore', 'turn', 'in', 'his', 'badge', 'following', 'a', 'transition', 'period', 'but', 'the', 'chief', 'who', 'has', 'remained', 'steadfast', 'through', 'repeated', 'calls', 'from', 'community', 'leaders', 'for', 'his', 'ouster']\n"
     ]
    }
   ],
   "source": [
    "# fuentes\n",
    "fuentes_tokens = []\n",
    "for lista in fuentes_minusc_simbol:\n",
    "    tokenized_lista = nltk.word_tokenize(lista)\n",
    "    fuentes_tokens.append(tokenized_lista)\n",
    "\n",
    "print(fuentes_tokens[0][:60])"
   ]
  },
  {
   "cell_type": "markdown",
   "id": "3269635d-ab08-495a-a003-be1e959f369c",
   "metadata": {},
   "source": [
    "# 3.4 Controlamos las ***stop words***"
   ]
  },
  {
   "cell_type": "code",
   "execution_count": 10,
   "id": "c706ce10-061c-49e5-945f-82895eda6868",
   "metadata": {},
   "outputs": [
    {
     "data": {
      "text/plain": [
       "nltk.corpus.reader.wordlist.WordListCorpusReader"
      ]
     },
     "execution_count": 10,
     "metadata": {},
     "output_type": "execute_result"
    }
   ],
   "source": [
    "# Definiendo las stops words\n",
    "\n",
    "from nltk.corpus import stopwords\n",
    "stopwords_control = stopwords.words('english')\n",
    "type(stopwords) # list"
   ]
  },
  {
   "cell_type": "code",
   "execution_count": 11,
   "id": "4f2906d1-c3ca-4413-9e77-ec99a5e3b912",
   "metadata": {},
   "outputs": [],
   "source": [
    "stop_words = set(stopwords.words('english'))\n",
    "\n",
    "def remover_soptwords(documentos):\n",
    "    documentos_finales = []\n",
    "    for doc in documentos:\n",
    "        documentos_limpios = [i for i in doc if not i in stop_words]\n",
    "        documentos_finales.append(documentos_limpios)\n",
    "    return documentos_finales\n"
   ]
  },
  {
   "cell_type": "code",
   "execution_count": 12,
   "id": "5892b89b-4e05-439e-9be7-271d6c5a251a",
   "metadata": {},
   "outputs": [
    {
     "name": "stdout",
     "output_type": "stream",
     "text": [
      "['washington', 'ap', 'robert', 'rubin', 'spent', 'much', 'life', 'speculating', 'stock', 'market', 'would', 'good', 'made', '100', 'million', 'came', 'washington', 'rubin', 'essentially', 'thing', 'speculating', 'president', 'clinton', 'would', 'balance', 'budget', 'would', 'rewarded', 'booming', 'economy', 'surprise', 'many', 'argument', 'caught', 'clinton', 'ear', 'six', 'years', 'since', 'first', 'top', 'economic', 'adviser', 'since', '1995', 'treasury', 'secretary', 'rubin', 'gained', 'much', 'credit', 'close', 'partnership', 'federal', 'reserve', 'chairman', 'alan', 'greenspan', 'policies', 'spending']\n"
     ]
    }
   ],
   "source": [
    "sospechosos_normalizados = remover_soptwords(sospechosos_tokens)\n",
    "print(sospechosos_normalizados[0][:60])"
   ]
  },
  {
   "cell_type": "code",
   "execution_count": 13,
   "id": "d4dbfe3d-f6b1-4ea4-994a-e0c3bffc6f37",
   "metadata": {},
   "outputs": [
    {
     "name": "stdout",
     "output_type": "stream",
     "text": [
      "['commission', 'stopped', 'short', 'blaming', 'chief', 'gates', 'problems', 'said', 'chief', 'serve', 'two', 'consecutive', 'five', 'year', 'terms', 'mr', 'gates', 'served', '13', 'years', 'therefore', 'turn', 'badge', 'following', 'transition', 'period', 'chief', 'remained', 'steadfast', 'repeated', 'calls', 'community', 'leaders', 'ouster', 'said', 'later', '``', 'expect', 'run', 'away', \"''\", 'job', 'nearly', 'one', 'quarter', '650', 'officers', 'responding', 'commission', 'survey', 'agreed', '``', 'racial', 'bias', 'part', 'officers', 'toward', 'minority', 'citizens', 'currently']\n"
     ]
    }
   ],
   "source": [
    "fuentes_normalizados = remover_soptwords(fuentes_tokens)\n",
    "print(fuentes_normalizados[0][:60])"
   ]
  },
  {
   "cell_type": "markdown",
   "id": "21cc3f0d-8e72-41ad-b3a0-cc8ee5779bf9",
   "metadata": {},
   "source": [
    "# 3.5 Se recomienda usar el ***stemmer*** de NLTK para facilidad, usar Porter (inglés) para reducir el vocabulario."
   ]
  },
  {
   "cell_type": "code",
   "execution_count": 14,
   "id": "2e221673-7f1c-422f-beb6-3af4e355e98b",
   "metadata": {},
   "outputs": [],
   "source": [
    "from nltk.stem.porter import *\n",
    "stemmer = PorterStemmer()"
   ]
  },
  {
   "cell_type": "code",
   "execution_count": 18,
   "id": "c19c4cdf-fea9-4e01-ba71-6d3d2a3e33b3",
   "metadata": {},
   "outputs": [
    {
     "name": "stdout",
     "output_type": "stream",
     "text": [
      "['washington', 'ap', 'robert', 'rubin', 'spent', 'much', 'life', 'specul', 'stock', 'market', 'would', 'good', 'made', '100', 'million', 'came', 'washington', 'rubin', 'essenti', 'thing', 'specul', 'presid', 'clinton', 'would', 'balanc', 'budget', 'would', 'reward', 'boom', 'economi', 'surpris', 'mani', 'argument', 'caught', 'clinton', 'ear', 'six', 'year', 'sinc', 'first', 'top', 'econom', 'advis', 'sinc', '1995', 'treasuri', 'secretari', 'rubin', 'gain', 'much', 'credit', 'close', 'partnership', 'feder', 'reserv', 'chairman', 'alan', 'greenspan', 'polici', 'spend']\n"
     ]
    }
   ],
   "source": [
    "#stemm para sospechosos normalizado\n",
    "sospechosos_normalizados_stemm = [[stemmer.stem(word) for word in texto] for texto in sospechosos_normalizados]\n",
    "\n",
    "print(sospechosos_normalizados_stemm[0][:60])"
   ]
  },
  {
   "cell_type": "code",
   "execution_count": 24,
   "id": "8754a0ae-1eb1-4bdf-a3e0-a3ee72e03ebe",
   "metadata": {},
   "outputs": [
    {
     "name": "stdout",
     "output_type": "stream",
     "text": [
      "['commiss', 'stop', 'short', 'blame', 'chief', 'gate', 'problem', 'said', 'chief', 'serv', 'two', 'consecut', 'five', 'year', 'term', 'mr', 'gate', 'serv', '13', 'year', 'therefor', 'turn', 'badg', 'follow', 'transit', 'period', 'chief', 'remain', 'steadfast', 'repeat', 'call', 'commun', 'leader', 'ouster', 'said', 'later', '``', 'expect', 'run', 'away', \"''\", 'job', 'nearli', 'one', 'quarter', '650', 'offic', 'respond', 'commiss', 'survey', 'agre', '``', 'racial', 'bia', 'part', 'offic', 'toward', 'minor', 'citizen', 'current']\n"
     ]
    }
   ],
   "source": [
    "fuentes_normalizados_stemm = [[stemmer.stem(word) for word in texto] for texto in fuentes_normalizados]\n",
    "\n",
    "print(fuentes_normalizados_stemm[0][:60])"
   ]
  },
  {
   "cell_type": "code",
   "execution_count": 26,
   "id": "d7505e1c-774c-47c9-b70b-d503c4d6b215",
   "metadata": {},
   "outputs": [
    {
     "name": "stdout",
     "output_type": "stream",
     "text": [
      "['studi', 'found', 'u', 'death', 'toll', 'major', 'hurrican', 'could', 'far', 'wors', 'previous', 'predict', 'head', 'nation', 'hurrican', 'center', 'said', 'tuesday', 'mark', 'open', '1988', 'atlant', 'storm', 'season', 'recent', 'complet', 'hurrican', 'coastal', 'flood', 'model', 'atlant', 'gulf', 'coast', 'show', 'mani', 'peopl', 'earlier', 'thought', 'must', 'evacu', 'certain', 'condit', 'said', 'center', 'director', 'bob', 'sheet', 'forti', 'three', 'million', 'peopl', 'live', '175', 'coastal', 'counti', 'main', 'texa', 'evacu', 'crowd', 'urban']\n"
     ]
    }
   ],
   "source": [
    "print(fuentes_normalizados_stemm[236][:60])"
   ]
  },
  {
   "cell_type": "markdown",
   "id": "ba61eeb3-8128-4b87-8c8e-02c4407de4f2",
   "metadata": {},
   "source": [
    "# 4. Para procesar similitud se utiliza la medida de Jaccard sin peso.\n",
    "\n",
    "$$Jaccard(doc_1, doc_2) = \\frac{|doc_1 \\cap doc_2|}{|doc_1 \\cup doc_2|}$$"
   ]
  },
  {
   "cell_type": "code",
   "execution_count": 27,
   "id": "8b248c4d-d1b6-4f7b-a192-5db6e53b63fb",
   "metadata": {},
   "outputs": [],
   "source": [
    "def similaridad_jaccard(doc1, doc2):\n",
    "    set1 = set(doc1)\n",
    "    set2 = set(doc2)\n",
    "    intersection = set1.intersection(set2)\n",
    "    union = set1.union(set2)\n",
    "    return len(intersection) / len(union)\n",
    "\n",
    "def compare_docs(documents1, documents2):\n",
    "    similaridades = []\n",
    "    for doc1 in documents1:\n",
    "        for doc2 in documents2:\n",
    "            similaridad = similaridad_jaccard(doc1, doc2)\n",
    "            similaridades.append(similaridad)\n",
    "    return similaridades"
   ]
  },
  {
   "cell_type": "code",
   "execution_count": 110,
   "id": "c5f5e123-aab4-4784-b999-add672fb5e7c",
   "metadata": {},
   "outputs": [
    {
     "name": "stdout",
     "output_type": "stream",
     "text": [
      "Las 20 similaridades de Jaccard de los documentos sospechosos respecto a cada una de las fuentes: [0.24022346368715083, 0.23976608187134502, 0.2341069626639758, 0.23399558498896247, 0.23270440251572327, 0.22646310432569974, 0.22564102564102564, 0.22171945701357465, 0.21890547263681592, 0.2179176755447942, 0.21657754010695188, 0.21464646464646464, 0.21398305084745764, 0.21325051759834368, 0.21308016877637131, 0.21226415094339623, 0.2116564417177914, 0.2116279069767442, 0.2100456621004566, 0.2087912087912088]\n"
     ]
    }
   ],
   "source": [
    "similaridades = compare_docs(sospechosos_normalizados_stemm, fuentes_normalizados_stemm)\n",
    "top_similaridades = sorted(similaridades, reverse=True)[:20]\n",
    "print(f'Las 20 similaridades de Jaccard de los documentos sospechosos respecto a cada una de las fuentes: {top_similaridades}')\n"
   ]
  },
  {
   "cell_type": "markdown",
   "id": "0ddf7156-2143-455c-9887-38cd90b7c409",
   "metadata": {},
   "source": [
    "# 5. Eligiendo una muestra aleatoria de 20 textos sospechosos y comparando con todas las fuentes."
   ]
  },
  {
   "cell_type": "code",
   "execution_count": 67,
   "id": "6e4fda83-de99-4af9-b15d-62fa190a628f",
   "metadata": {},
   "outputs": [
    {
     "name": "stdout",
     "output_type": "stream",
     "text": [
      "La muestra de sospechosos son: ['washington', 'top', 'offici', 'clinton', 'administr', 'strongli', 'object', 'wednesday', 'republican', 'plan', 'would', 'allow', 'money', 'theoret', 'earmark', 'social', 'secur', 'spent', 'purpos', 'next', 'two', 'year', 'hear', 'hous', 'way', 'mean', 'subcommitte', 'social', 'secur', 'senior', 'democrat', 'congressman', 'worri', 'aloud', 'presid', 'clinton', 'would', 'lure', 'democrat', 'lawmak', 'take', 'difficult', 'stand', 'social', 'secur', 'occas', 'past', 'revers', 'cours', 'leav', 'legisl', 'alli', 'strand', 'polit', 'administr', 'offici', 'deputi', 'treasuri', 'secretari', 'lawrenc']\n",
      "Index positions of randomly selected elements: [214, 1096, 357, 1668, 1091, 441, 156, 1552, 2196, 2303, 1360, 1395, 212, 653, 553, 1381, 2297, 1367, 1004, 670]\n"
     ]
    }
   ],
   "source": [
    "# Muestra aleatoria de 20 documentos de la lista de listas de sospechosos_normalizados_stemm asumiendo una distribución normal\n",
    "\n",
    "random.seed(123)\n",
    "muestra_sospechosos = random.sample(sospechosos_normalizados_stemm, 20)\n",
    "print(f\"La muestra de sospechosos son: {muestra_sospechosos[0][:60]}\")\n",
    "\n",
    "posiciones_index = [sospechosos_normalizados_stemm.index(elem) for elem in muestra_sospechosos]\n",
    "\n",
    "print(f\"Index positions of randomly selected elements: {posiciones_index}\")\n"
   ]
  },
  {
   "cell_type": "markdown",
   "id": "f835553f-7215-4406-a84a-c89ba125e316",
   "metadata": {},
   "source": [
    "# 6. Sobre los mismos documentos elegidos (muestra) y usar la medida Dice sin pesado.\n",
    "\n",
    "$$Dice(doc_1, doc_2) = \\frac{2 |doc_1 \\cap doc_2|}{|doc_1| + |doc_2|}$$"
   ]
  },
  {
   "cell_type": "code",
   "execution_count": 43,
   "id": "22984aa6-26b0-407a-ac68-d1e09feb0658",
   "metadata": {},
   "outputs": [],
   "source": [
    "# Implementando Dice método sin peso.\n",
    "def similaridad_dice(lista1, lista2):\n",
    "    # Convert nested lists to tuples to remove duplicates\n",
    "    lista1 = [tuple(l) for l in lista1]\n",
    "    lista2 = [tuple(l) for l in lista2]\n",
    "    \n",
    "    # Convert the lists to sets to remove duplicates\n",
    "    set1 = set(lista1)\n",
    "    set2 = set(lista2)\n",
    "    \n",
    "    # Calculate the intersection of the sets\n",
    "    intersection = set1.intersection(set2)\n",
    "    \n",
    "    # Calculate the Dice similarity coefficient\n",
    "    similarity = (2.0 * len(intersection)) / (len(set1) + len(set2))\n",
    "    \n",
    "    return similarity\n"
   ]
  },
  {
   "cell_type": "code",
   "execution_count": 100,
   "id": "0e7f785e-8b27-427f-b797-10f6f9e2a2a4",
   "metadata": {},
   "outputs": [
    {
     "name": "stdout",
     "output_type": "stream",
     "text": [
      "Las similaridades de jaccard para los documentos sospechosos respecto a cada una de las fuentes son: [[0.10526315789473684], [0.038636363636363635], [0.07086614173228346], [0.08488964346349745], [0.05938242280285035], [0.08166969147005444], [0.0536779324055666], [0.10909090909090909], [0.0840630472854641], [0.03194103194103194], [0.0782122905027933], [0.05912596401028278], [0.07961165048543689], [0.08860759493670886], [0.07307692307692308], [0.11432926829268293], [0.029748283752860413], [0.07218683651804671], [0.10741687979539642], [0.08941176470588236]]\n"
     ]
    }
   ],
   "source": [
    "similaridades_jaccard = []\n",
    "for sospechoso in muestra_sospechosos:\n",
    "    sim = []\n",
    "    for fuente in fuentes_normalizados_stemm:\n",
    "        sim.append(compare_docs([sospechoso], [fuente]))\n",
    "    similaridades_jaccard.append(sim)\n",
    "\n",
    "top_similaridades_jaccard = list(itertools.chain(*similaridades_jaccard))[:20]\n",
    "print(f'Las similaridades de jaccard para los documentos sospechosos respecto a cada una de las fuentes son: {top_similaridades_jaccard}')\n"
   ]
  },
  {
   "cell_type": "code",
   "execution_count": 103,
   "id": "dd87792a-c809-4e26-aa14-2ba3a6ea2114",
   "metadata": {},
   "outputs": [
    {
     "name": "stdout",
     "output_type": "stream",
     "text": [
      "Las similaridades de Dice para los documentos sospechosos respecto a cada una de las fuentes son: [0.19047619047619047, 0.07439824945295405, 0.1323529411764706, 0.1564945226917058, 0.11210762331838565, 0.15100671140939598, 0.1018867924528302, 0.19672131147540983, 0.15508885298869143, 0.06190476190476191, 0.14507772020725387, 0.11165048543689321, 0.1474820143884892, 0.16279069767441862, 0.13620071684587814, 0.2051983584131327, 0.057777777777777775, 0.13465346534653466, 0.19399538106235567, 0.16414686825053995]\n"
     ]
    }
   ],
   "source": [
    "similaridades_dice = []\n",
    "for sospechoso in muestra_sospechosos:\n",
    "    sim = []\n",
    "    for fuente in fuentes_normalizados_stemm:\n",
    "        sim.append(similaridad_dice(sospechoso, fuente))\n",
    "    similaridades_dice.append(sim)\n",
    "\n",
    "top_similaridades_dice = list(itertools.chain(*similaridades_dice))[:20]\n",
    "print(f'Las similaridades de Dice para los documentos sospechosos respecto a cada una de las fuentes son: {top_similaridades_dice}')\n"
   ]
  },
  {
   "cell_type": "markdown",
   "id": "04b717a0-f0fc-4d15-9ebf-7f7e94611391",
   "metadata": {},
   "source": [
    "# 7. Teniendo las posiciones veamos a qué archivos corresponden."
   ]
  },
  {
   "cell_type": "code",
   "execution_count": 73,
   "id": "d718fc1c-593b-4f0a-b83a-62035e3309a9",
   "metadata": {},
   "outputs": [
    {
     "data": {
      "text/plain": [
       "['suspicious-document0215.txt',\n",
       " 'suspicious-document1097.txt',\n",
       " 'suspicious-document0358.txt',\n",
       " 'suspicious-document1669.txt',\n",
       " 'suspicious-document1092.txt',\n",
       " 'suspicious-document0442.txt',\n",
       " 'suspicious-document0157.txt',\n",
       " 'suspicious-document1553.txt',\n",
       " 'suspicious-document2197.txt',\n",
       " 'suspicious-document2304.txt',\n",
       " 'suspicious-document1361.txt',\n",
       " 'suspicious-document1396.txt',\n",
       " 'suspicious-document0213.txt',\n",
       " 'suspicious-document0654.txt',\n",
       " 'suspicious-document0554.txt',\n",
       " 'suspicious-document1382.txt',\n",
       " 'suspicious-document2298.txt',\n",
       " 'suspicious-document1368.txt',\n",
       " 'suspicious-document1005.txt',\n",
       " 'suspicious-document0671.txt']"
      ]
     },
     "execution_count": 73,
     "metadata": {},
     "output_type": "execute_result"
    }
   ],
   "source": [
    "directorio = \"./suspicious-documents/\"\n",
    "\n",
    "archivos = [f for f in os.listdir(directorio) if os.path.isfile(os.path.join(directorio, f))]\n",
    "\n",
    "archivos_nombres = [archivos[i] for i in posiciones_index]\n",
    "\n",
    "archivos_nombres\n"
   ]
  },
  {
   "cell_type": "markdown",
   "id": "974aeadc-efb7-4f7d-bbea-6d3f8d86f6d6",
   "metadata": {},
   "source": [
    "# 8. Los resultados en una sola tabla"
   ]
  },
  {
   "cell_type": "code",
   "execution_count": 108,
   "id": "a2621f60-0e5b-4e23-b6a6-8e6d88504bca",
   "metadata": {},
   "outputs": [
    {
     "data": {
      "text/html": [
       "<div>\n",
       "<style scoped>\n",
       "    .dataframe tbody tr th:only-of-type {\n",
       "        vertical-align: middle;\n",
       "    }\n",
       "\n",
       "    .dataframe tbody tr th {\n",
       "        vertical-align: top;\n",
       "    }\n",
       "\n",
       "    .dataframe thead th {\n",
       "        text-align: right;\n",
       "    }\n",
       "</style>\n",
       "<table border=\"1\" class=\"dataframe\">\n",
       "  <thead>\n",
       "    <tr style=\"text-align: right;\">\n",
       "      <th></th>\n",
       "      <th>Textos_Seleccionados_Aleatoriamente</th>\n",
       "      <th>Similaridad_de_Dice</th>\n",
       "      <th>Similaridad de Jaccard</th>\n",
       "    </tr>\n",
       "  </thead>\n",
       "  <tbody>\n",
       "    <tr>\n",
       "      <th>15</th>\n",
       "      <td>suspicious-document1382.txt</td>\n",
       "      <td>0.21</td>\n",
       "      <td>0.11</td>\n",
       "    </tr>\n",
       "    <tr>\n",
       "      <th>7</th>\n",
       "      <td>suspicious-document1553.txt</td>\n",
       "      <td>0.20</td>\n",
       "      <td>0.11</td>\n",
       "    </tr>\n",
       "    <tr>\n",
       "      <th>0</th>\n",
       "      <td>suspicious-document0215.txt</td>\n",
       "      <td>0.19</td>\n",
       "      <td>0.11</td>\n",
       "    </tr>\n",
       "    <tr>\n",
       "      <th>18</th>\n",
       "      <td>suspicious-document1005.txt</td>\n",
       "      <td>0.19</td>\n",
       "      <td>0.11</td>\n",
       "    </tr>\n",
       "    <tr>\n",
       "      <th>13</th>\n",
       "      <td>suspicious-document0654.txt</td>\n",
       "      <td>0.16</td>\n",
       "      <td>0.09</td>\n",
       "    </tr>\n",
       "    <tr>\n",
       "      <th>8</th>\n",
       "      <td>suspicious-document2197.txt</td>\n",
       "      <td>0.16</td>\n",
       "      <td>0.08</td>\n",
       "    </tr>\n",
       "    <tr>\n",
       "      <th>19</th>\n",
       "      <td>suspicious-document0671.txt</td>\n",
       "      <td>0.16</td>\n",
       "      <td>0.09</td>\n",
       "    </tr>\n",
       "    <tr>\n",
       "      <th>3</th>\n",
       "      <td>suspicious-document1669.txt</td>\n",
       "      <td>0.16</td>\n",
       "      <td>0.08</td>\n",
       "    </tr>\n",
       "    <tr>\n",
       "      <th>5</th>\n",
       "      <td>suspicious-document0442.txt</td>\n",
       "      <td>0.15</td>\n",
       "      <td>0.08</td>\n",
       "    </tr>\n",
       "    <tr>\n",
       "      <th>12</th>\n",
       "      <td>suspicious-document0213.txt</td>\n",
       "      <td>0.15</td>\n",
       "      <td>0.08</td>\n",
       "    </tr>\n",
       "    <tr>\n",
       "      <th>10</th>\n",
       "      <td>suspicious-document1361.txt</td>\n",
       "      <td>0.15</td>\n",
       "      <td>0.08</td>\n",
       "    </tr>\n",
       "    <tr>\n",
       "      <th>14</th>\n",
       "      <td>suspicious-document0554.txt</td>\n",
       "      <td>0.14</td>\n",
       "      <td>0.07</td>\n",
       "    </tr>\n",
       "    <tr>\n",
       "      <th>17</th>\n",
       "      <td>suspicious-document1368.txt</td>\n",
       "      <td>0.13</td>\n",
       "      <td>0.07</td>\n",
       "    </tr>\n",
       "    <tr>\n",
       "      <th>2</th>\n",
       "      <td>suspicious-document0358.txt</td>\n",
       "      <td>0.13</td>\n",
       "      <td>0.07</td>\n",
       "    </tr>\n",
       "    <tr>\n",
       "      <th>11</th>\n",
       "      <td>suspicious-document1396.txt</td>\n",
       "      <td>0.11</td>\n",
       "      <td>0.06</td>\n",
       "    </tr>\n",
       "    <tr>\n",
       "      <th>4</th>\n",
       "      <td>suspicious-document1092.txt</td>\n",
       "      <td>0.11</td>\n",
       "      <td>0.06</td>\n",
       "    </tr>\n",
       "    <tr>\n",
       "      <th>6</th>\n",
       "      <td>suspicious-document0157.txt</td>\n",
       "      <td>0.10</td>\n",
       "      <td>0.05</td>\n",
       "    </tr>\n",
       "    <tr>\n",
       "      <th>1</th>\n",
       "      <td>suspicious-document1097.txt</td>\n",
       "      <td>0.07</td>\n",
       "      <td>0.04</td>\n",
       "    </tr>\n",
       "    <tr>\n",
       "      <th>9</th>\n",
       "      <td>suspicious-document2304.txt</td>\n",
       "      <td>0.06</td>\n",
       "      <td>0.03</td>\n",
       "    </tr>\n",
       "    <tr>\n",
       "      <th>16</th>\n",
       "      <td>suspicious-document2298.txt</td>\n",
       "      <td>0.06</td>\n",
       "      <td>0.03</td>\n",
       "    </tr>\n",
       "  </tbody>\n",
       "</table>\n",
       "</div>"
      ],
      "text/plain": [
       "   Textos_Seleccionados_Aleatoriamente  Similaridad_de_Dice  \\\n",
       "15         suspicious-document1382.txt                 0.21   \n",
       "7          suspicious-document1553.txt                 0.20   \n",
       "0          suspicious-document0215.txt                 0.19   \n",
       "18         suspicious-document1005.txt                 0.19   \n",
       "13         suspicious-document0654.txt                 0.16   \n",
       "8          suspicious-document2197.txt                 0.16   \n",
       "19         suspicious-document0671.txt                 0.16   \n",
       "3          suspicious-document1669.txt                 0.16   \n",
       "5          suspicious-document0442.txt                 0.15   \n",
       "12         suspicious-document0213.txt                 0.15   \n",
       "10         suspicious-document1361.txt                 0.15   \n",
       "14         suspicious-document0554.txt                 0.14   \n",
       "17         suspicious-document1368.txt                 0.13   \n",
       "2          suspicious-document0358.txt                 0.13   \n",
       "11         suspicious-document1396.txt                 0.11   \n",
       "4          suspicious-document1092.txt                 0.11   \n",
       "6          suspicious-document0157.txt                 0.10   \n",
       "1          suspicious-document1097.txt                 0.07   \n",
       "9          suspicious-document2304.txt                 0.06   \n",
       "16         suspicious-document2298.txt                 0.06   \n",
       "\n",
       "    Similaridad de Jaccard  \n",
       "15                    0.11  \n",
       "7                     0.11  \n",
       "0                     0.11  \n",
       "18                    0.11  \n",
       "13                    0.09  \n",
       "8                     0.08  \n",
       "19                    0.09  \n",
       "3                     0.08  \n",
       "5                     0.08  \n",
       "12                    0.08  \n",
       "10                    0.08  \n",
       "14                    0.07  \n",
       "17                    0.07  \n",
       "2                     0.07  \n",
       "11                    0.06  \n",
       "4                     0.06  \n",
       "6                     0.05  \n",
       "1                     0.04  \n",
       "9                     0.03  \n",
       "16                    0.03  "
      ]
     },
     "execution_count": 108,
     "metadata": {},
     "output_type": "execute_result"
    }
   ],
   "source": [
    "resultados = pd.DataFrame({\"Textos_Seleccionados_Aleatoriamente\":archivos_nombres, \"Similaridad_de_Dice\":[round(i, 2) for i in top_similaridades_dice], \"Similaridad de Jaccard\":[[round(element[0], 2)][0] for element in top_similaridades_jaccard]}).sort_values('Similaridad_de_Dice', ascending=False)\n",
    "resultados"
   ]
  },
  {
   "cell_type": "code",
   "execution_count": 124,
   "id": "a25ca8d9-41d6-4a45-8f3c-6c29bb469e4e",
   "metadata": {},
   "outputs": [
    {
     "data": {
      "text/html": [
       "<div>\n",
       "<style scoped>\n",
       "    .dataframe tbody tr th:only-of-type {\n",
       "        vertical-align: middle;\n",
       "    }\n",
       "\n",
       "    .dataframe tbody tr th {\n",
       "        vertical-align: top;\n",
       "    }\n",
       "\n",
       "    .dataframe thead th {\n",
       "        text-align: right;\n",
       "    }\n",
       "</style>\n",
       "<table border=\"1\" class=\"dataframe\">\n",
       "  <thead>\n",
       "    <tr style=\"text-align: right;\">\n",
       "      <th></th>\n",
       "      <th>Textos_Seleccionados_Aleatoriamente</th>\n",
       "      <th>Tipo_similaridad</th>\n",
       "      <th>Valor_similaridad</th>\n",
       "    </tr>\n",
       "  </thead>\n",
       "  <tbody>\n",
       "    <tr>\n",
       "      <th>0</th>\n",
       "      <td>suspicious-document1382.txt</td>\n",
       "      <td>Similaridad_de_Dice</td>\n",
       "      <td>0.21</td>\n",
       "    </tr>\n",
       "    <tr>\n",
       "      <th>1</th>\n",
       "      <td>suspicious-document1553.txt</td>\n",
       "      <td>Similaridad_de_Dice</td>\n",
       "      <td>0.20</td>\n",
       "    </tr>\n",
       "    <tr>\n",
       "      <th>2</th>\n",
       "      <td>suspicious-document0215.txt</td>\n",
       "      <td>Similaridad_de_Dice</td>\n",
       "      <td>0.19</td>\n",
       "    </tr>\n",
       "    <tr>\n",
       "      <th>3</th>\n",
       "      <td>suspicious-document1005.txt</td>\n",
       "      <td>Similaridad_de_Dice</td>\n",
       "      <td>0.19</td>\n",
       "    </tr>\n",
       "    <tr>\n",
       "      <th>4</th>\n",
       "      <td>suspicious-document0654.txt</td>\n",
       "      <td>Similaridad_de_Dice</td>\n",
       "      <td>0.16</td>\n",
       "    </tr>\n",
       "    <tr>\n",
       "      <th>5</th>\n",
       "      <td>suspicious-document2197.txt</td>\n",
       "      <td>Similaridad_de_Dice</td>\n",
       "      <td>0.16</td>\n",
       "    </tr>\n",
       "    <tr>\n",
       "      <th>6</th>\n",
       "      <td>suspicious-document0671.txt</td>\n",
       "      <td>Similaridad_de_Dice</td>\n",
       "      <td>0.16</td>\n",
       "    </tr>\n",
       "    <tr>\n",
       "      <th>7</th>\n",
       "      <td>suspicious-document1669.txt</td>\n",
       "      <td>Similaridad_de_Dice</td>\n",
       "      <td>0.16</td>\n",
       "    </tr>\n",
       "    <tr>\n",
       "      <th>8</th>\n",
       "      <td>suspicious-document0442.txt</td>\n",
       "      <td>Similaridad_de_Dice</td>\n",
       "      <td>0.15</td>\n",
       "    </tr>\n",
       "    <tr>\n",
       "      <th>9</th>\n",
       "      <td>suspicious-document0213.txt</td>\n",
       "      <td>Similaridad_de_Dice</td>\n",
       "      <td>0.15</td>\n",
       "    </tr>\n",
       "    <tr>\n",
       "      <th>10</th>\n",
       "      <td>suspicious-document1361.txt</td>\n",
       "      <td>Similaridad_de_Dice</td>\n",
       "      <td>0.15</td>\n",
       "    </tr>\n",
       "    <tr>\n",
       "      <th>11</th>\n",
       "      <td>suspicious-document0554.txt</td>\n",
       "      <td>Similaridad_de_Dice</td>\n",
       "      <td>0.14</td>\n",
       "    </tr>\n",
       "    <tr>\n",
       "      <th>12</th>\n",
       "      <td>suspicious-document1368.txt</td>\n",
       "      <td>Similaridad_de_Dice</td>\n",
       "      <td>0.13</td>\n",
       "    </tr>\n",
       "    <tr>\n",
       "      <th>13</th>\n",
       "      <td>suspicious-document0358.txt</td>\n",
       "      <td>Similaridad_de_Dice</td>\n",
       "      <td>0.13</td>\n",
       "    </tr>\n",
       "    <tr>\n",
       "      <th>14</th>\n",
       "      <td>suspicious-document1396.txt</td>\n",
       "      <td>Similaridad_de_Dice</td>\n",
       "      <td>0.11</td>\n",
       "    </tr>\n",
       "    <tr>\n",
       "      <th>15</th>\n",
       "      <td>suspicious-document1092.txt</td>\n",
       "      <td>Similaridad_de_Dice</td>\n",
       "      <td>0.11</td>\n",
       "    </tr>\n",
       "    <tr>\n",
       "      <th>16</th>\n",
       "      <td>suspicious-document0157.txt</td>\n",
       "      <td>Similaridad_de_Dice</td>\n",
       "      <td>0.10</td>\n",
       "    </tr>\n",
       "    <tr>\n",
       "      <th>17</th>\n",
       "      <td>suspicious-document1097.txt</td>\n",
       "      <td>Similaridad_de_Dice</td>\n",
       "      <td>0.07</td>\n",
       "    </tr>\n",
       "    <tr>\n",
       "      <th>18</th>\n",
       "      <td>suspicious-document2304.txt</td>\n",
       "      <td>Similaridad_de_Dice</td>\n",
       "      <td>0.06</td>\n",
       "    </tr>\n",
       "    <tr>\n",
       "      <th>19</th>\n",
       "      <td>suspicious-document2298.txt</td>\n",
       "      <td>Similaridad_de_Dice</td>\n",
       "      <td>0.06</td>\n",
       "    </tr>\n",
       "    <tr>\n",
       "      <th>20</th>\n",
       "      <td>suspicious-document1382.txt</td>\n",
       "      <td>Similaridad de Jaccard</td>\n",
       "      <td>0.11</td>\n",
       "    </tr>\n",
       "    <tr>\n",
       "      <th>21</th>\n",
       "      <td>suspicious-document1553.txt</td>\n",
       "      <td>Similaridad de Jaccard</td>\n",
       "      <td>0.11</td>\n",
       "    </tr>\n",
       "    <tr>\n",
       "      <th>22</th>\n",
       "      <td>suspicious-document0215.txt</td>\n",
       "      <td>Similaridad de Jaccard</td>\n",
       "      <td>0.11</td>\n",
       "    </tr>\n",
       "    <tr>\n",
       "      <th>23</th>\n",
       "      <td>suspicious-document1005.txt</td>\n",
       "      <td>Similaridad de Jaccard</td>\n",
       "      <td>0.11</td>\n",
       "    </tr>\n",
       "    <tr>\n",
       "      <th>24</th>\n",
       "      <td>suspicious-document0654.txt</td>\n",
       "      <td>Similaridad de Jaccard</td>\n",
       "      <td>0.09</td>\n",
       "    </tr>\n",
       "    <tr>\n",
       "      <th>25</th>\n",
       "      <td>suspicious-document2197.txt</td>\n",
       "      <td>Similaridad de Jaccard</td>\n",
       "      <td>0.08</td>\n",
       "    </tr>\n",
       "    <tr>\n",
       "      <th>26</th>\n",
       "      <td>suspicious-document0671.txt</td>\n",
       "      <td>Similaridad de Jaccard</td>\n",
       "      <td>0.09</td>\n",
       "    </tr>\n",
       "    <tr>\n",
       "      <th>27</th>\n",
       "      <td>suspicious-document1669.txt</td>\n",
       "      <td>Similaridad de Jaccard</td>\n",
       "      <td>0.08</td>\n",
       "    </tr>\n",
       "    <tr>\n",
       "      <th>28</th>\n",
       "      <td>suspicious-document0442.txt</td>\n",
       "      <td>Similaridad de Jaccard</td>\n",
       "      <td>0.08</td>\n",
       "    </tr>\n",
       "    <tr>\n",
       "      <th>29</th>\n",
       "      <td>suspicious-document0213.txt</td>\n",
       "      <td>Similaridad de Jaccard</td>\n",
       "      <td>0.08</td>\n",
       "    </tr>\n",
       "    <tr>\n",
       "      <th>30</th>\n",
       "      <td>suspicious-document1361.txt</td>\n",
       "      <td>Similaridad de Jaccard</td>\n",
       "      <td>0.08</td>\n",
       "    </tr>\n",
       "    <tr>\n",
       "      <th>31</th>\n",
       "      <td>suspicious-document0554.txt</td>\n",
       "      <td>Similaridad de Jaccard</td>\n",
       "      <td>0.07</td>\n",
       "    </tr>\n",
       "    <tr>\n",
       "      <th>32</th>\n",
       "      <td>suspicious-document1368.txt</td>\n",
       "      <td>Similaridad de Jaccard</td>\n",
       "      <td>0.07</td>\n",
       "    </tr>\n",
       "    <tr>\n",
       "      <th>33</th>\n",
       "      <td>suspicious-document0358.txt</td>\n",
       "      <td>Similaridad de Jaccard</td>\n",
       "      <td>0.07</td>\n",
       "    </tr>\n",
       "    <tr>\n",
       "      <th>34</th>\n",
       "      <td>suspicious-document1396.txt</td>\n",
       "      <td>Similaridad de Jaccard</td>\n",
       "      <td>0.06</td>\n",
       "    </tr>\n",
       "    <tr>\n",
       "      <th>35</th>\n",
       "      <td>suspicious-document1092.txt</td>\n",
       "      <td>Similaridad de Jaccard</td>\n",
       "      <td>0.06</td>\n",
       "    </tr>\n",
       "    <tr>\n",
       "      <th>36</th>\n",
       "      <td>suspicious-document0157.txt</td>\n",
       "      <td>Similaridad de Jaccard</td>\n",
       "      <td>0.05</td>\n",
       "    </tr>\n",
       "    <tr>\n",
       "      <th>37</th>\n",
       "      <td>suspicious-document1097.txt</td>\n",
       "      <td>Similaridad de Jaccard</td>\n",
       "      <td>0.04</td>\n",
       "    </tr>\n",
       "    <tr>\n",
       "      <th>38</th>\n",
       "      <td>suspicious-document2304.txt</td>\n",
       "      <td>Similaridad de Jaccard</td>\n",
       "      <td>0.03</td>\n",
       "    </tr>\n",
       "    <tr>\n",
       "      <th>39</th>\n",
       "      <td>suspicious-document2298.txt</td>\n",
       "      <td>Similaridad de Jaccard</td>\n",
       "      <td>0.03</td>\n",
       "    </tr>\n",
       "  </tbody>\n",
       "</table>\n",
       "</div>"
      ],
      "text/plain": [
       "   Textos_Seleccionados_Aleatoriamente        Tipo_similaridad  \\\n",
       "0          suspicious-document1382.txt     Similaridad_de_Dice   \n",
       "1          suspicious-document1553.txt     Similaridad_de_Dice   \n",
       "2          suspicious-document0215.txt     Similaridad_de_Dice   \n",
       "3          suspicious-document1005.txt     Similaridad_de_Dice   \n",
       "4          suspicious-document0654.txt     Similaridad_de_Dice   \n",
       "5          suspicious-document2197.txt     Similaridad_de_Dice   \n",
       "6          suspicious-document0671.txt     Similaridad_de_Dice   \n",
       "7          suspicious-document1669.txt     Similaridad_de_Dice   \n",
       "8          suspicious-document0442.txt     Similaridad_de_Dice   \n",
       "9          suspicious-document0213.txt     Similaridad_de_Dice   \n",
       "10         suspicious-document1361.txt     Similaridad_de_Dice   \n",
       "11         suspicious-document0554.txt     Similaridad_de_Dice   \n",
       "12         suspicious-document1368.txt     Similaridad_de_Dice   \n",
       "13         suspicious-document0358.txt     Similaridad_de_Dice   \n",
       "14         suspicious-document1396.txt     Similaridad_de_Dice   \n",
       "15         suspicious-document1092.txt     Similaridad_de_Dice   \n",
       "16         suspicious-document0157.txt     Similaridad_de_Dice   \n",
       "17         suspicious-document1097.txt     Similaridad_de_Dice   \n",
       "18         suspicious-document2304.txt     Similaridad_de_Dice   \n",
       "19         suspicious-document2298.txt     Similaridad_de_Dice   \n",
       "20         suspicious-document1382.txt  Similaridad de Jaccard   \n",
       "21         suspicious-document1553.txt  Similaridad de Jaccard   \n",
       "22         suspicious-document0215.txt  Similaridad de Jaccard   \n",
       "23         suspicious-document1005.txt  Similaridad de Jaccard   \n",
       "24         suspicious-document0654.txt  Similaridad de Jaccard   \n",
       "25         suspicious-document2197.txt  Similaridad de Jaccard   \n",
       "26         suspicious-document0671.txt  Similaridad de Jaccard   \n",
       "27         suspicious-document1669.txt  Similaridad de Jaccard   \n",
       "28         suspicious-document0442.txt  Similaridad de Jaccard   \n",
       "29         suspicious-document0213.txt  Similaridad de Jaccard   \n",
       "30         suspicious-document1361.txt  Similaridad de Jaccard   \n",
       "31         suspicious-document0554.txt  Similaridad de Jaccard   \n",
       "32         suspicious-document1368.txt  Similaridad de Jaccard   \n",
       "33         suspicious-document0358.txt  Similaridad de Jaccard   \n",
       "34         suspicious-document1396.txt  Similaridad de Jaccard   \n",
       "35         suspicious-document1092.txt  Similaridad de Jaccard   \n",
       "36         suspicious-document0157.txt  Similaridad de Jaccard   \n",
       "37         suspicious-document1097.txt  Similaridad de Jaccard   \n",
       "38         suspicious-document2304.txt  Similaridad de Jaccard   \n",
       "39         suspicious-document2298.txt  Similaridad de Jaccard   \n",
       "\n",
       "    Valor_similaridad  \n",
       "0                0.21  \n",
       "1                0.20  \n",
       "2                0.19  \n",
       "3                0.19  \n",
       "4                0.16  \n",
       "5                0.16  \n",
       "6                0.16  \n",
       "7                0.16  \n",
       "8                0.15  \n",
       "9                0.15  \n",
       "10               0.15  \n",
       "11               0.14  \n",
       "12               0.13  \n",
       "13               0.13  \n",
       "14               0.11  \n",
       "15               0.11  \n",
       "16               0.10  \n",
       "17               0.07  \n",
       "18               0.06  \n",
       "19               0.06  \n",
       "20               0.11  \n",
       "21               0.11  \n",
       "22               0.11  \n",
       "23               0.11  \n",
       "24               0.09  \n",
       "25               0.08  \n",
       "26               0.09  \n",
       "27               0.08  \n",
       "28               0.08  \n",
       "29               0.08  \n",
       "30               0.08  \n",
       "31               0.07  \n",
       "32               0.07  \n",
       "33               0.07  \n",
       "34               0.06  \n",
       "35               0.06  \n",
       "36               0.05  \n",
       "37               0.04  \n",
       "38               0.03  \n",
       "39               0.03  "
      ]
     },
     "execution_count": 124,
     "metadata": {},
     "output_type": "execute_result"
    }
   ],
   "source": [
    "resultados_long = pd.melt(resultados, id_vars=[\"Textos_Seleccionados_Aleatoriamente\"], \n",
    "                          value_vars=[\"Similaridad_de_Dice\", \"Similaridad de Jaccard\"], \n",
    "                          var_name=\"Tipo_similaridad\", value_name=\"Valor_similaridad\")\n",
    "resultados_long"
   ]
  },
  {
   "cell_type": "markdown",
   "id": "66d2e822-8c56-40d0-ae94-463fe2272d87",
   "metadata": {},
   "source": [
    "# 9. Comparación gráfica"
   ]
  },
  {
   "cell_type": "code",
   "execution_count": 125,
   "id": "0cdee1b6-9225-403b-9c3a-f9edcfdcb606",
   "metadata": {},
   "outputs": [
    {
     "data": {
      "image/png": "[encoded data removed]",
      "text/plain": [
       "<Figure size 640x480 with 1 Axes>"
      ]
     },
     "metadata": {},
     "output_type": "display_data"
    }
   ],
   "source": [
    "sns.barplot(x='Textos_Seleccionados_Aleatoriamente', y='Valor_similaridad', hue='Tipo_similaridad', data=resultados_long)\n",
    "plt.xticks(rotation=90)\n",
    "plt.ylabel('Nivel de Similaridad')\n",
    "plt.title('Diferencia entre tipo de similaridad calculada (Jaccard y Dice)');\n",
    "plt.savefig(\"Comparativo.png\", dpi=300, bbox_inches='tight')\n",
    "plt.show()"
   ]
  },
  {
   "cell_type": "markdown",
   "id": "9c0a26ab-f082-431b-8beb-4c8e060a4d58",
   "metadata": {},
   "source": [
    "<span style=\"color:DarkGreen; font-size: 30px;\">Conclusiones</span>"
   ]
  },
  {
   "cell_type": "markdown",
   "id": "10c8e06a-dcdb-4a0a-bfae-679b73e6d949",
   "metadata": {},
   "source": [
    "1. Como se establece en Manning & Shütze (1999), página 299, la métrica de Jaccard penaliza casi al doble del criterio de Dice a aquellos documentos que comparten una proporción muy pequeña de sus elementos (como una propoción de todos los elementos no-cero). Ambos miden en el rango de 0 (no hay traslape entre los elementos) y 1 (existe traslape perfecto entre todos los elementos). Pero el coeficiente de Jaccard proporciona bajos valores para los casos donde el traslape es bajo. El ejemplo del autor es muy claro: dos listas con 10 elementos \"no cero\" y sólo una entrada en común proporciona los siguientes valores: Dice = 2x1/(10+10)=0.1 y Jaccard = 1/(10+10-1)=0.5.\n",
    "\n",
    "2. En el caso de nuestros scores, se puede ver que el máximo valor es dado al documento denominado \"suspicious-document1382.txt\" con un un score de Dice de 0.21 y una similaridad de Jaccard de 0.11 (21% de ese texto es considerado como común a las fuentes originales). Como se puede ver en la gráfica, los niveles de Dice son regularmente el doble de los reportados con la metodología de Jaccard, sin perder de vista una estructura similar pero con más penalización de similaridad en Jaccard.\n",
    "\n",
    "3. Me hubiera gustado ver cómo se comporta una similaridad de coseno, pero ya no me dió tiempo. Según este artículo \"A Survey of Text Similarity Approaches\" de Gomathi y Suresh y disponible en: https://www.researchgate.net/publication/259181798_A_Survey_of_Text_Similarity_Approaches, esta técnica es más común para comparación de textos y las de Dice y Jaccard son más usadas comunmente para tareas de clustering y clasificación."
   ]
  },
  {
   "cell_type": "markdown",
   "id": "87d19845-02c4-4492-be6f-1681ee9d11dd",
   "metadata": {},
   "source": [
    "### Bibliografía y referencias electrónicas\n",
    "\n",
    "- Library NLTK para entender el método sent_tokenize y el módulo PunktSentenceTokenizer. Disponible en: https://www.nltk.org/api/nltk.tokenize.html y en https://www.nltk.org/api/nltk.tokenize.punkt.html#:~:text=Punkt%20Sentence%20Tokenizer,before%20it%20can%20be%20used. \n",
    "- Euclidean Distance & Cosine Similarity | Introduction to Data Mining part 18, disponible en: https://youtu.be/Dd16LVt5ct4\n",
    "- Cosine similarity, cosine distance explained | Math, Statistics for data science, machine learning, disponible en: https://youtu.be/m_CooIRM3UI\n",
    "\n",
    "- Using List as default_factory en Geek for Geeks. Disponible en: https://www.geeksforgeeks.org/defaultdict-in-python/.\n",
    "- Information entropy | Journey into information theory | Computer Science | Khan Academy: https://youtu.be/2s3aJfRr9gE\n",
    "- Jurafsky, D. & Martin, J.H. (2008). Speech and Language Processing. Prentice Hall, Segunda Edición.\n",
    "- Manning, C. & Schütze, H. (1999). Foundations of Statistical Natural Language Processing, MIT Press. Cambridge, MA. \n",
    "- Chen, R.,  Haitao L. & Altmann, G. (2016). Entropy in different text types. Digital Scholarship in the Humanities, vol. 32, Issue 3, pp. 528–542.\n",
    "- Text Normalization for Natural Language Processing in Python. Disponible en: https://lvngd.com/blog/text-normalization-natural-language-processing-python/\n"
   ]
  }
 ],
 "metadata": {
  "kernelspec": {
   "display_name": "Python 3 (ipykernel)",
   "language": "python",
   "name": "python3"
  },
  "language_info": {
   "codemirror_mode": {
    "name": "ipython",
    "version": 3
   },
   "file_extension": ".py",
   "mimetype": "text/x-python",
   "name": "python",
   "nbconvert_exporter": "python",
   "pygments_lexer": "ipython3",
   "version": "3.8.15"
  }
 },
 "nbformat": 4,
 "nbformat_minor": 5
}
